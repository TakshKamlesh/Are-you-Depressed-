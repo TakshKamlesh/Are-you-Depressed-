{
 "cells": [
  {
   "cell_type": "code",
   "execution_count": 3,
   "metadata": {},
   "outputs": [],
   "source": [
    "import cv2\n",
    "import numpy as np\n",
    "import matplotlib.pyplot as plt\n",
    "import librosa as lr"
   ]
  },
  {
   "cell_type": "code",
   "execution_count": null,
   "metadata": {},
   "outputs": [],
   "source": [
    "def speech_features(audio_list):\n",
    "    \n",
    "    \n",
    "    #audio_list = ['complete_audio','interview_duration','syllable_count', 'total_questions', 'subject_speech' , 'ra_speech',\n",
    "    #               'time_to_actual_answer', 'total_response_time','time_to_first_response', \n",
    "    #                'subject_laughing', 'overlapping_laugh', 'involvement_laugh']\n",
    "    \n",
    "    statistical_features = np.zeros((7,9))\n",
    "    \n",
    "    for i in range(len(audio_list)):\n",
    "        \n",
    "        if(i<4):\n",
    "            continue\n",
    "        \n",
    "        statistical_features[i][0] = np.avg(audio_list[i])\n",
    "        statistical_features[i][1] = np.var(audio_list[i])\n",
    "        statistical_features[i][2] = np.sqrt(audio_list[i])\n",
    "        statistical_features[i][3] = np.sum(audio_list[i])\n",
    "        statistical_features[i][4] = np.max(audio_list[i])\n",
    "        statistical_features[i][5] = np.min(audio_list[i])\n",
    "        statistical_features[i][6] = len([i for i in subject_speech if i is not 0])/audio_list[1]\n",
    "        statistical_features[i][7] = calculate_count(audio_list[i])\n",
    "        statistical_features[i][8] = calculate_range(audio_list[i])\n",
    "        \n",
    "        \n",
    "    style_features = np.zeroes((2,9))\n",
    "    \n",
    "    #style_feature_list = [max,min,range,variance,standard_deviation, number, \n",
    "    #                     total_duration, rate, average_duration]\n",
    "    \n",
    "    #[sounding_part, silent_part]\n",
    "    \n",
    "    sounding_part = [i for i in audio_list[0] if i is not 0]\n",
    "    silence_part = [i for in audio_list[0] if i is 0]\n",
    "    \n",
    "    style_features[0][0] = np.max(sounding_part)\n",
    "    style_features[0][1] = np.min(sounding_part)\n",
    "    style_features[0][2] = calculate_range(sounding_part)\n",
    "    style_features[0][3] = np.var(sounding_part)\n",
    "    style_features[0][4] = np.sqrt(style_features[0][3])\n",
    "    style_features[0][5] = calculate_count(sounding_part)\n",
    "    style_features[0][6] = sounding_part.shape[0]\n",
    "    style_features[0][7] = audio_list[2]/sounding_part.shape[0]\n",
    "    style_features[0][8] = 1/style_features[0][7]\n",
    "    \n",
    "    style_features[1][0] = np.max(silence_part)\n",
    "    style_features[1][1] = np.min(silence_part)\n",
    "    style_features[1][2] = calculate_range(silence_part)\n",
    "    style_features[1][3] = np.var(silence_part)\n",
    "    style_features[1][4] = np.sqrt(style_features[1][3])\n",
    "    style_features[1][5] = calculate_count(silence_part)\n",
    "    style_features[1][6] = silence_part.shape[0]\n",
    "    style_features[1][7] = audio_list[2]/silence_part.shape[0]\n",
    "    style_features[1][8] = 1/style_features[1][7] \n",
    "    \n",
    "    return statistical_features, style_features\n",
    "            \n",
    "    "
   ]
  },
  {
   "cell_type": "code",
   "execution_count": 4,
   "metadata": {},
   "outputs": [],
   "source": [
    "def calculate_count(audio):\n",
    "    \n",
    "    for i in range(1,audio.shape[0]):\n",
    "        \n",
    "        if(audio[i-1] is 0 and audio[i]>0):\n",
    "            \n",
    "            count = count + 1\n",
    "            \n",
    "    return count"
   ]
  },
  {
   "cell_type": "code",
   "execution_count": 5,
   "metadata": {},
   "outputs": [],
   "source": [
    "def calculate_range(audio):\n",
    "    \n",
    "    l=0\n",
    "    r=0\n",
    "    total = len(audio)\n",
    "    for i in range(audio.shape[0]):\n",
    "        \n",
    "        if(audio[i]>0):\n",
    "            l = i\n",
    "            break\n",
    "            \n",
    "    audio2 =np.flip(audio)\n",
    "    \n",
    "    for i in range(audio2.shape[0]):\n",
    "        \n",
    "        if(audio[i]>0):\n",
    "            r = total - i\n",
    "            break\n",
    "            \n",
    "    total_range = r - i\n",
    "    \n",
    "    return total_range"
   ]
  },
  {
   "cell_type": "code",
   "execution_count": null,
   "metadata": {},
   "outputs": [],
   "source": []
  }
 ],
 "metadata": {
  "kernelspec": {
   "display_name": "Python 3",
   "language": "python",
   "name": "python3"
  },
  "language_info": {
   "codemirror_mode": {
    "name": "ipython",
    "version": 3
   },
   "file_extension": ".py",
   "mimetype": "text/x-python",
   "name": "python",
   "nbconvert_exporter": "python",
   "pygments_lexer": "ipython3",
   "version": "3.6.9"
  }
 },
 "nbformat": 4,
 "nbformat_minor": 2
}
